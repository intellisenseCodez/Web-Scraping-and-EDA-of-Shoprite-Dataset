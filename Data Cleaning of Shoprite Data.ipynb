{
 "cells": [
  {
   "cell_type": "markdown",
   "id": "e6c37e5e",
   "metadata": {},
   "source": [
    "# Data Cleaning"
   ]
  },
  {
   "cell_type": "markdown",
   "id": "e79ffa24",
   "metadata": {},
   "source": [
    "### Import Libraries"
   ]
  },
  {
   "cell_type": "code",
   "execution_count": 1,
   "id": "3cf0678b",
   "metadata": {},
   "outputs": [],
   "source": [
    "import numpy as np   # mathematical functions\n",
    "import pandas as pd   # Data analyis\n",
    "import matplotlib.pyplot as plt   # Data visualization\n",
    "\n",
    "%matplotlib inline"
   ]
  },
  {
   "cell_type": "markdown",
   "id": "f4a4ba69",
   "metadata": {},
   "source": [
    "### Load our Data"
   ]
  },
  {
   "cell_type": "code",
   "execution_count": 2,
   "id": "52a50a1c",
   "metadata": {},
   "outputs": [
    {
     "data": {
      "text/html": [
       "<div>\n",
       "<style scoped>\n",
       "    .dataframe tbody tr th:only-of-type {\n",
       "        vertical-align: middle;\n",
       "    }\n",
       "\n",
       "    .dataframe tbody tr th {\n",
       "        vertical-align: top;\n",
       "    }\n",
       "\n",
       "    .dataframe thead th {\n",
       "        text-align: right;\n",
       "    }\n",
       "</style>\n",
       "<table border=\"1\" class=\"dataframe\">\n",
       "  <thead>\n",
       "    <tr style=\"text-align: right;\">\n",
       "      <th></th>\n",
       "      <th>Unnamed: 0</th>\n",
       "      <th>names</th>\n",
       "      <th>prices</th>\n",
       "      <th>sku</th>\n",
       "      <th>categories</th>\n",
       "      <th>tag</th>\n",
       "    </tr>\n",
       "  </thead>\n",
       "  <tbody>\n",
       "    <tr>\n",
       "      <th>0</th>\n",
       "      <td>0</td>\n",
       "      <td>Chewy Caramel Alpenliebe 6.5G</td>\n",
       "      <td>₦34.99</td>\n",
       "      <td>Candy Milk Chewy Caramel Alpenliebe 6.5G</td>\n",
       "      <td>Category: Confectionery and Snacks</td>\n",
       "      <td>Tag: Candy</td>\n",
       "    </tr>\n",
       "    <tr>\n",
       "      <th>1</th>\n",
       "      <td>1</td>\n",
       "      <td>Milk Chewy Caramel Alpenliebe 6.5G</td>\n",
       "      <td>₦34.99</td>\n",
       "      <td>Milk Chewy Caramel Alpenliebe 6.5G</td>\n",
       "      <td>Category: Candy &amp; bubble Gum</td>\n",
       "      <td>Tag: Alpenliebe</td>\n",
       "    </tr>\n",
       "    <tr>\n",
       "      <th>2</th>\n",
       "      <td>2</td>\n",
       "      <td>Seasoning Powder Jollof Maggi 8G</td>\n",
       "      <td>₦52.99</td>\n",
       "      <td>Seasoning Powder Jollof Maggi 8G</td>\n",
       "      <td>Category: Condiments, Oils &amp; Spices</td>\n",
       "      <td>Tag: Seasoning</td>\n",
       "    </tr>\n",
       "    <tr>\n",
       "      <th>3</th>\n",
       "      <td>3</td>\n",
       "      <td>Seasoning Powder Chicken Maggi 10G</td>\n",
       "      <td>₦52.99</td>\n",
       "      <td>Seasoning Powder Chicken Maggi 10G</td>\n",
       "      <td>Category: Condiments, Oils &amp; Spices</td>\n",
       "      <td>Tag: Seasoning</td>\n",
       "    </tr>\n",
       "    <tr>\n",
       "      <th>4</th>\n",
       "      <td>4</td>\n",
       "      <td>Chocolate Slab Milk Dune 5G</td>\n",
       "      <td>₦54.99</td>\n",
       "      <td>Chocolate Slab Milk Dune 5G</td>\n",
       "      <td>Category: Chocolate</td>\n",
       "      <td>Tag: Chocolate</td>\n",
       "    </tr>\n",
       "  </tbody>\n",
       "</table>\n",
       "</div>"
      ],
      "text/plain": [
       "   Unnamed: 0                               names  prices  \\\n",
       "0           0      Chewy Caramel Alpenliebe 6.5G   ₦34.99   \n",
       "1           1  Milk Chewy Caramel Alpenliebe 6.5G  ₦34.99   \n",
       "2           2    Seasoning Powder Jollof Maggi 8G  ₦52.99   \n",
       "3           3  Seasoning Powder Chicken Maggi 10G  ₦52.99   \n",
       "4           4         Chocolate Slab Milk Dune 5G  ₦54.99   \n",
       "\n",
       "                                         sku  \\\n",
       "0  Candy Milk Chewy Caramel Alpenliebe 6.5G    \n",
       "1         Milk Chewy Caramel Alpenliebe 6.5G   \n",
       "2           Seasoning Powder Jollof Maggi 8G   \n",
       "3         Seasoning Powder Chicken Maggi 10G   \n",
       "4                Chocolate Slab Milk Dune 5G   \n",
       "\n",
       "                            categories              tag  \n",
       "0   Category: Confectionery and Snacks       Tag: Candy  \n",
       "1         Category: Candy & bubble Gum  Tag: Alpenliebe  \n",
       "2  Category: Condiments, Oils & Spices   Tag: Seasoning  \n",
       "3  Category: Condiments, Oils & Spices   Tag: Seasoning  \n",
       "4                  Category: Chocolate   Tag: Chocolate  "
      ]
     },
     "execution_count": 2,
     "metadata": {},
     "output_type": "execute_result"
    }
   ],
   "source": [
    "df = pd.read_csv('shop_rite_messy_data.csv')\n",
    "df.head()"
   ]
  },
  {
   "cell_type": "markdown",
   "id": "a8685b6a",
   "metadata": {},
   "source": [
    "### Understand the Data"
   ]
  },
  {
   "cell_type": "code",
   "execution_count": 3,
   "id": "3f4f3f31",
   "metadata": {},
   "outputs": [],
   "source": [
    "# drop the Unnamed: 0 column\n",
    "df.drop(columns='Unnamed: 0', inplace=True)"
   ]
  },
  {
   "cell_type": "code",
   "execution_count": 4,
   "id": "e1f4e34c",
   "metadata": {},
   "outputs": [
    {
     "data": {
      "text/plain": [
       "Index(['names', 'prices', 'sku', 'categories', 'tag'], dtype='object')"
      ]
     },
     "execution_count": 4,
     "metadata": {},
     "output_type": "execute_result"
    }
   ],
   "source": [
    "# after dropping the column\n",
    "df.columns"
   ]
  },
  {
   "cell_type": "code",
   "execution_count": 5,
   "id": "4d05c0f4",
   "metadata": {},
   "outputs": [
    {
     "data": {
      "text/plain": [
       "(100, 5)"
      ]
     },
     "execution_count": 5,
     "metadata": {},
     "output_type": "execute_result"
    }
   ],
   "source": [
    "# check shape\n",
    "df.shape"
   ]
  },
  {
   "cell_type": "code",
   "execution_count": 6,
   "id": "6d416dcf",
   "metadata": {},
   "outputs": [
    {
     "data": {
      "text/plain": [
       "0"
      ]
     },
     "execution_count": 6,
     "metadata": {},
     "output_type": "execute_result"
    }
   ],
   "source": [
    "# check for duplicates\n",
    "df.duplicated().sum()"
   ]
  },
  {
   "cell_type": "markdown",
   "id": "c463b2c8",
   "metadata": {},
   "source": [
    "*No duplicates found in the dataset!*"
   ]
  },
  {
   "cell_type": "code",
   "execution_count": 7,
   "id": "02d2fe5d",
   "metadata": {},
   "outputs": [
    {
     "name": "stdout",
     "output_type": "stream",
     "text": [
      "<class 'pandas.core.frame.DataFrame'>\n",
      "RangeIndex: 100 entries, 0 to 99\n",
      "Data columns (total 5 columns):\n",
      " #   Column      Non-Null Count  Dtype \n",
      "---  ------      --------------  ----- \n",
      " 0   names       100 non-null    object\n",
      " 1   prices      100 non-null    object\n",
      " 2   sku         100 non-null    object\n",
      " 3   categories  100 non-null    object\n",
      " 4   tag         100 non-null    object\n",
      "dtypes: object(5)\n",
      "memory usage: 4.0+ KB\n"
     ]
    }
   ],
   "source": [
    "# info\n",
    "df.info()"
   ]
  },
  {
   "cell_type": "markdown",
   "id": "ca7de6a9",
   "metadata": {},
   "source": [
    "#### Clean the Price Column\n",
    "Remove the currency symbol"
   ]
  },
  {
   "cell_type": "code",
   "execution_count": 8,
   "id": "d04a8cda",
   "metadata": {},
   "outputs": [],
   "source": [
    "# replace value and convert the type\n",
    "df['prices'] = df['prices'].str.replace('₦','').astype(float)"
   ]
  },
  {
   "cell_type": "markdown",
   "id": "df02f1ef",
   "metadata": {},
   "source": [
    "#### Find Fields with Null"
   ]
  },
  {
   "cell_type": "code",
   "execution_count": 9,
   "id": "d27da0b8",
   "metadata": {},
   "outputs": [
    {
     "data": {
      "text/plain": [
       "0"
      ]
     },
     "execution_count": 9,
     "metadata": {},
     "output_type": "execute_result"
    }
   ],
   "source": [
    "# for names\n",
    "(df['names'] == 'Null').sum()"
   ]
  },
  {
   "cell_type": "code",
   "execution_count": 10,
   "id": "b3a0f023",
   "metadata": {},
   "outputs": [
    {
     "data": {
      "text/plain": [
       "0"
      ]
     },
     "execution_count": 10,
     "metadata": {},
     "output_type": "execute_result"
    }
   ],
   "source": [
    "# for prices\n",
    "(df['prices'] == 'Null').sum()"
   ]
  },
  {
   "cell_type": "code",
   "execution_count": 11,
   "id": "34668066",
   "metadata": {},
   "outputs": [
    {
     "data": {
      "text/plain": [
       "11"
      ]
     },
     "execution_count": 11,
     "metadata": {},
     "output_type": "execute_result"
    }
   ],
   "source": [
    "# for sku\n",
    "(df['sku'] == 'Null').sum()"
   ]
  },
  {
   "cell_type": "code",
   "execution_count": 12,
   "id": "013593da",
   "metadata": {},
   "outputs": [],
   "source": [
    "# replace Null to nan\n",
    "df['sku'] = df['sku'].replace('Null',np.nan)"
   ]
  },
  {
   "cell_type": "code",
   "execution_count": 13,
   "id": "559be9d2",
   "metadata": {},
   "outputs": [
    {
     "data": {
      "text/plain": [
       "5"
      ]
     },
     "execution_count": 13,
     "metadata": {},
     "output_type": "execute_result"
    }
   ],
   "source": [
    "# for categories\n",
    "(df['categories'] == 'Null').sum()"
   ]
  },
  {
   "cell_type": "code",
   "execution_count": 14,
   "id": "60c558fe",
   "metadata": {},
   "outputs": [],
   "source": [
    "# replace Null to nan\n",
    "df['categories'] = df['categories'].replace('Null',np.nan)"
   ]
  },
  {
   "cell_type": "code",
   "execution_count": 15,
   "id": "dcccb090",
   "metadata": {},
   "outputs": [
    {
     "data": {
      "text/plain": [
       "7"
      ]
     },
     "execution_count": 15,
     "metadata": {},
     "output_type": "execute_result"
    }
   ],
   "source": [
    "# for tag\n",
    "(df['tag'] == 'Null').sum()"
   ]
  },
  {
   "cell_type": "code",
   "execution_count": 16,
   "id": "44e60e29",
   "metadata": {},
   "outputs": [],
   "source": [
    "# replace Null to nan\n",
    "df['tag'] = df['tag'].replace('Null',np.nan)"
   ]
  },
  {
   "cell_type": "code",
   "execution_count": 17,
   "id": "30911d72",
   "metadata": {},
   "outputs": [
    {
     "name": "stdout",
     "output_type": "stream",
     "text": [
      "<class 'pandas.core.frame.DataFrame'>\n",
      "RangeIndex: 100 entries, 0 to 99\n",
      "Data columns (total 5 columns):\n",
      " #   Column      Non-Null Count  Dtype  \n",
      "---  ------      --------------  -----  \n",
      " 0   names       100 non-null    object \n",
      " 1   prices      100 non-null    float64\n",
      " 2   sku         89 non-null     object \n",
      " 3   categories  95 non-null     object \n",
      " 4   tag         93 non-null     object \n",
      "dtypes: float64(1), object(4)\n",
      "memory usage: 4.0+ KB\n"
     ]
    }
   ],
   "source": [
    "df.info()"
   ]
  },
  {
   "cell_type": "code",
   "execution_count": 18,
   "id": "2de2d8ca",
   "metadata": {},
   "outputs": [],
   "source": [
    "# drop the sku column\n",
    "df.drop(columns='sku', inplace=True)"
   ]
  },
  {
   "cell_type": "code",
   "execution_count": 19,
   "id": "883e3532",
   "metadata": {},
   "outputs": [],
   "source": [
    "df.dropna(inplace=True)"
   ]
  },
  {
   "cell_type": "code",
   "execution_count": 20,
   "id": "feed9320",
   "metadata": {},
   "outputs": [
    {
     "name": "stdout",
     "output_type": "stream",
     "text": [
      "<class 'pandas.core.frame.DataFrame'>\n",
      "Int64Index: 93 entries, 0 to 99\n",
      "Data columns (total 4 columns):\n",
      " #   Column      Non-Null Count  Dtype  \n",
      "---  ------      --------------  -----  \n",
      " 0   names       93 non-null     object \n",
      " 1   prices      93 non-null     float64\n",
      " 2   categories  93 non-null     object \n",
      " 3   tag         93 non-null     object \n",
      "dtypes: float64(1), object(3)\n",
      "memory usage: 3.6+ KB\n"
     ]
    }
   ],
   "source": [
    "df.info()"
   ]
  },
  {
   "cell_type": "code",
   "execution_count": 21,
   "id": "1fefb029",
   "metadata": {},
   "outputs": [
    {
     "data": {
      "text/html": [
       "<div>\n",
       "<style scoped>\n",
       "    .dataframe tbody tr th:only-of-type {\n",
       "        vertical-align: middle;\n",
       "    }\n",
       "\n",
       "    .dataframe tbody tr th {\n",
       "        vertical-align: top;\n",
       "    }\n",
       "\n",
       "    .dataframe thead th {\n",
       "        text-align: right;\n",
       "    }\n",
       "</style>\n",
       "<table border=\"1\" class=\"dataframe\">\n",
       "  <thead>\n",
       "    <tr style=\"text-align: right;\">\n",
       "      <th></th>\n",
       "      <th>names</th>\n",
       "      <th>prices</th>\n",
       "      <th>categories</th>\n",
       "      <th>tag</th>\n",
       "    </tr>\n",
       "  </thead>\n",
       "  <tbody>\n",
       "    <tr>\n",
       "      <th>0</th>\n",
       "      <td>Chewy Caramel Alpenliebe 6.5G</td>\n",
       "      <td>34.99</td>\n",
       "      <td>Category: Confectionery and Snacks</td>\n",
       "      <td>Tag: Candy</td>\n",
       "    </tr>\n",
       "    <tr>\n",
       "      <th>1</th>\n",
       "      <td>Milk Chewy Caramel Alpenliebe 6.5G</td>\n",
       "      <td>34.99</td>\n",
       "      <td>Category: Candy &amp; bubble Gum</td>\n",
       "      <td>Tag: Alpenliebe</td>\n",
       "    </tr>\n",
       "    <tr>\n",
       "      <th>2</th>\n",
       "      <td>Seasoning Powder Jollof Maggi 8G</td>\n",
       "      <td>52.99</td>\n",
       "      <td>Category: Condiments, Oils &amp; Spices</td>\n",
       "      <td>Tag: Seasoning</td>\n",
       "    </tr>\n",
       "    <tr>\n",
       "      <th>3</th>\n",
       "      <td>Seasoning Powder Chicken Maggi 10G</td>\n",
       "      <td>52.99</td>\n",
       "      <td>Category: Condiments, Oils &amp; Spices</td>\n",
       "      <td>Tag: Seasoning</td>\n",
       "    </tr>\n",
       "    <tr>\n",
       "      <th>4</th>\n",
       "      <td>Chocolate Slab Milk Dune 5G</td>\n",
       "      <td>54.99</td>\n",
       "      <td>Category: Chocolate</td>\n",
       "      <td>Tag: Chocolate</td>\n",
       "    </tr>\n",
       "  </tbody>\n",
       "</table>\n",
       "</div>"
      ],
      "text/plain": [
       "                                names  prices  \\\n",
       "0      Chewy Caramel Alpenliebe 6.5G    34.99   \n",
       "1  Milk Chewy Caramel Alpenliebe 6.5G   34.99   \n",
       "2    Seasoning Powder Jollof Maggi 8G   52.99   \n",
       "3  Seasoning Powder Chicken Maggi 10G   52.99   \n",
       "4         Chocolate Slab Milk Dune 5G   54.99   \n",
       "\n",
       "                            categories              tag  \n",
       "0   Category: Confectionery and Snacks       Tag: Candy  \n",
       "1         Category: Candy & bubble Gum  Tag: Alpenliebe  \n",
       "2  Category: Condiments, Oils & Spices   Tag: Seasoning  \n",
       "3  Category: Condiments, Oils & Spices   Tag: Seasoning  \n",
       "4                  Category: Chocolate   Tag: Chocolate  "
      ]
     },
     "execution_count": 21,
     "metadata": {},
     "output_type": "execute_result"
    }
   ],
   "source": [
    "df.head()"
   ]
  },
  {
   "cell_type": "markdown",
   "id": "c7f3a74a",
   "metadata": {},
   "source": [
    "##### Clean the Category Column"
   ]
  },
  {
   "cell_type": "code",
   "execution_count": 22,
   "id": "82787d9c",
   "metadata": {},
   "outputs": [],
   "source": [
    "df['categories'] = df['categories'].str.replace('Category: ','')\n",
    "df['categories'] = df['categories'].str.replace('Categories: ','')"
   ]
  },
  {
   "cell_type": "markdown",
   "id": "fd65070b",
   "metadata": {},
   "source": [
    "##### Clean the Tag Column"
   ]
  },
  {
   "cell_type": "code",
   "execution_count": 23,
   "id": "05922fcb",
   "metadata": {},
   "outputs": [],
   "source": [
    "df['tag'] = df['tag'].str.replace('Tag: ','')"
   ]
  },
  {
   "cell_type": "code",
   "execution_count": 24,
   "id": "170d4e14",
   "metadata": {},
   "outputs": [
    {
     "data": {
      "text/html": [
       "<div>\n",
       "<style scoped>\n",
       "    .dataframe tbody tr th:only-of-type {\n",
       "        vertical-align: middle;\n",
       "    }\n",
       "\n",
       "    .dataframe tbody tr th {\n",
       "        vertical-align: top;\n",
       "    }\n",
       "\n",
       "    .dataframe thead th {\n",
       "        text-align: right;\n",
       "    }\n",
       "</style>\n",
       "<table border=\"1\" class=\"dataframe\">\n",
       "  <thead>\n",
       "    <tr style=\"text-align: right;\">\n",
       "      <th></th>\n",
       "      <th>names</th>\n",
       "      <th>prices</th>\n",
       "      <th>categories</th>\n",
       "      <th>tag</th>\n",
       "    </tr>\n",
       "  </thead>\n",
       "  <tbody>\n",
       "    <tr>\n",
       "      <th>0</th>\n",
       "      <td>Chewy Caramel Alpenliebe 6.5G</td>\n",
       "      <td>34.99</td>\n",
       "      <td>Confectionery and Snacks</td>\n",
       "      <td>Candy</td>\n",
       "    </tr>\n",
       "    <tr>\n",
       "      <th>1</th>\n",
       "      <td>Milk Chewy Caramel Alpenliebe 6.5G</td>\n",
       "      <td>34.99</td>\n",
       "      <td>Candy &amp; bubble Gum</td>\n",
       "      <td>Alpenliebe</td>\n",
       "    </tr>\n",
       "    <tr>\n",
       "      <th>2</th>\n",
       "      <td>Seasoning Powder Jollof Maggi 8G</td>\n",
       "      <td>52.99</td>\n",
       "      <td>Condiments, Oils &amp; Spices</td>\n",
       "      <td>Seasoning</td>\n",
       "    </tr>\n",
       "    <tr>\n",
       "      <th>3</th>\n",
       "      <td>Seasoning Powder Chicken Maggi 10G</td>\n",
       "      <td>52.99</td>\n",
       "      <td>Condiments, Oils &amp; Spices</td>\n",
       "      <td>Seasoning</td>\n",
       "    </tr>\n",
       "    <tr>\n",
       "      <th>4</th>\n",
       "      <td>Chocolate Slab Milk Dune 5G</td>\n",
       "      <td>54.99</td>\n",
       "      <td>Chocolate</td>\n",
       "      <td>Chocolate</td>\n",
       "    </tr>\n",
       "  </tbody>\n",
       "</table>\n",
       "</div>"
      ],
      "text/plain": [
       "                                names  prices                 categories  \\\n",
       "0      Chewy Caramel Alpenliebe 6.5G    34.99   Confectionery and Snacks   \n",
       "1  Milk Chewy Caramel Alpenliebe 6.5G   34.99         Candy & bubble Gum   \n",
       "2    Seasoning Powder Jollof Maggi 8G   52.99  Condiments, Oils & Spices   \n",
       "3  Seasoning Powder Chicken Maggi 10G   52.99  Condiments, Oils & Spices   \n",
       "4         Chocolate Slab Milk Dune 5G   54.99                  Chocolate   \n",
       "\n",
       "          tag  \n",
       "0       Candy  \n",
       "1  Alpenliebe  \n",
       "2   Seasoning  \n",
       "3   Seasoning  \n",
       "4   Chocolate  "
      ]
     },
     "execution_count": 24,
     "metadata": {},
     "output_type": "execute_result"
    }
   ],
   "source": [
    "df.head()"
   ]
  },
  {
   "cell_type": "markdown",
   "id": "7b4c1220",
   "metadata": {},
   "source": [
    "## Save into CSV"
   ]
  },
  {
   "cell_type": "code",
   "execution_count": 25,
   "id": "a4e7c7df",
   "metadata": {},
   "outputs": [],
   "source": [
    "df.to_csv('shop_rite_clean_data.csv')"
   ]
  },
  {
   "cell_type": "code",
   "execution_count": null,
   "id": "13136257",
   "metadata": {},
   "outputs": [],
   "source": []
  }
 ],
 "metadata": {
  "kernelspec": {
   "display_name": "Python 3 (ipykernel)",
   "language": "python",
   "name": "python3"
  },
  "language_info": {
   "codemirror_mode": {
    "name": "ipython",
    "version": 3
   },
   "file_extension": ".py",
   "mimetype": "text/x-python",
   "name": "python",
   "nbconvert_exporter": "python",
   "pygments_lexer": "ipython3",
   "version": "3.9.13"
  }
 },
 "nbformat": 4,
 "nbformat_minor": 5
}
