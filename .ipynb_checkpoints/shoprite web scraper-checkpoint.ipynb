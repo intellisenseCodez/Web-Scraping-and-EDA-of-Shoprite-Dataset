{
 "cells": [
  {
   "cell_type": "markdown",
   "id": "a3682c6b",
   "metadata": {},
   "source": [
    "## Web Scraping"
   ]
  },
  {
   "cell_type": "code",
   "execution_count": 1,
   "id": "60c02d9a",
   "metadata": {},
   "outputs": [],
   "source": [
    "# import library\n",
    "import requests"
   ]
  },
  {
   "cell_type": "code",
   "execution_count": 2,
   "id": "3759aaed",
   "metadata": {},
   "outputs": [],
   "source": [
    "# make a get request\n",
    "r = requests.get('https://httpbin.org/basic-auth/user/pass', auth=('user', 'pass'))"
   ]
  },
  {
   "cell_type": "code",
   "execution_count": 3,
   "id": "c5be8406",
   "metadata": {},
   "outputs": [
    {
     "data": {
      "text/plain": [
       "200"
      ]
     },
     "execution_count": 3,
     "metadata": {},
     "output_type": "execute_result"
    }
   ],
   "source": [
    "r.status_code"
   ]
  },
  {
   "cell_type": "code",
   "execution_count": 4,
   "id": "a44d2f96",
   "metadata": {},
   "outputs": [],
   "source": [
    "g = requests.get('https://www.google.com/ola')"
   ]
  },
  {
   "cell_type": "code",
   "execution_count": 5,
   "id": "2d86d0b8",
   "metadata": {},
   "outputs": [
    {
     "data": {
      "text/plain": [
       "404"
      ]
     },
     "execution_count": 5,
     "metadata": {},
     "output_type": "execute_result"
    }
   ],
   "source": [
    "g.status_code"
   ]
  },
  {
   "cell_type": "markdown",
   "id": "a032691e",
   "metadata": {},
   "source": [
    "## Make a request to Shoprite."
   ]
  },
  {
   "cell_type": "code",
   "execution_count": 6,
   "id": "ffe1244c",
   "metadata": {},
   "outputs": [],
   "source": [
    "res = requests.get(url='https://shoprite.ng/shop/')"
   ]
  },
  {
   "cell_type": "code",
   "execution_count": 7,
   "id": "b5c2dab8",
   "metadata": {},
   "outputs": [
    {
     "data": {
      "text/plain": [
       "200"
      ]
     },
     "execution_count": 7,
     "metadata": {},
     "output_type": "execute_result"
    }
   ],
   "source": [
    "res.status_code"
   ]
  },
  {
   "cell_type": "markdown",
   "id": "7dddb60b",
   "metadata": {},
   "source": [
    "## Make a Soup"
   ]
  },
  {
   "cell_type": "code",
   "execution_count": 8,
   "id": "d54ce32c",
   "metadata": {},
   "outputs": [
    {
     "name": "stdout",
     "output_type": "stream",
     "text": [
      "Requirement already satisfied: beautifulsoup4 in /Users/macbook/opt/anaconda3/lib/python3.9/site-packages (4.11.1)\r\n",
      "Requirement already satisfied: soupsieve>1.2 in /Users/macbook/opt/anaconda3/lib/python3.9/site-packages (from beautifulsoup4) (2.3.1)\r\n"
     ]
    }
   ],
   "source": [
    "!pip install beautifulsoup4"
   ]
  },
  {
   "cell_type": "code",
   "execution_count": 9,
   "id": "9e3eb144",
   "metadata": {},
   "outputs": [],
   "source": [
    "from bs4 import BeautifulSoup"
   ]
  },
  {
   "cell_type": "code",
   "execution_count": 10,
   "id": "f27435f7",
   "metadata": {},
   "outputs": [],
   "source": [
    "# create an object of BeautifulSoup\n",
    "soup = BeautifulSoup(res.content, 'html.parser')"
   ]
  },
  {
   "cell_type": "code",
   "execution_count": 11,
   "id": "68615d2c",
   "metadata": {},
   "outputs": [
    {
     "data": {
      "text/plain": [
       "''"
      ]
     },
     "execution_count": 11,
     "metadata": {},
     "output_type": "execute_result"
    }
   ],
   "source": [
    "soup.find('h2').get_text()"
   ]
  },
  {
   "cell_type": "code",
   "execution_count": 12,
   "id": "fa19cd94",
   "metadata": {},
   "outputs": [
    {
     "name": "stdout",
     "output_type": "stream",
     "text": [
      "['', '18 Glenfiddich 750Ml', '2sure Bath Soap Herbal Plus 120g', '2X Snickers 80G', '33 Export 500Ml Can', '5 Alive 780Ml, Berry Blast', '5 Alive 780Ml, Citrus Burst', '7 Up 500Ml NRB, Original', '7Up 50Cl', 'Active Go Milo 20G', 'Active Go Milo 400G Sachet', 'Air Freshener Gel Airwick 45G, Rose', 'Air freshener Ref Airwick 250Ml, Aqua', 'Air freshener Ref Airwick 250Ml, Lav', 'Air Freshner Gel Airwick 45G, Lav', 'Airfryer Model Baf-3501 Binatone 3.5L', 'Airwick 2X250Ml', 'Airwick 2X250Ml, Citrus\\xa0', 'Airwick Fmat 250Ml, Citrus\\xa0', 'Amazing Day Golden Penny 600G', 'American Aviation 750Ml', 'American Honey 750Ml', 'Ankara & Colour Ariel 2Kg\\xa0', 'Ankara Ariel 400G', 'Antiseptic Liquid Savlon 250Ml Pack', 'Antiseptic Liquid Savlon 500Ml Pack', 'Antiseptic Liquid Savlon 500Ml Pack', 'Antiseptic Liquid Savlon 750Ml', 'Aperitif Herb Bitters Orijin 330Ml Can', 'Aperitif Herb Bitters Orijin 750Ml', 'Aperitifs Bitters Confam 750Ml', 'Apperito Bitters  375Ml', 'Apple Caprisonne 100Ml Pouch', 'Apple Caprisonne 200Ml Pouch', 'Apple Fuji 1.5Kg', 'Apples X 6', 'Ariel  Ankara & Colour  800G', 'Ariel Auto 1.8Kg\\xa0', 'Avocado Per Kg', 'Baileys Delight 750Ml']\n"
     ]
    }
   ],
   "source": [
    "all_product_name = soup.find_all('h2') \n",
    "names = [] # an empty list to store all names\n",
    "\n",
    "for product in all_product_name:\n",
    "    prod = product.get_text()\n",
    "    \n",
    "    # append each name to list\n",
    "    names.append(prod)\n",
    "    \n",
    "\n",
    "# print out all names\n",
    "print(names)"
   ]
  },
  {
   "cell_type": "code",
   "execution_count": 13,
   "id": "8690288c",
   "metadata": {},
   "outputs": [
    {
     "name": "stdout",
     "output_type": "stream",
     "text": [
      "['₦1,799.99', '₦54,999.99', '₦349.99', '₦899.99', '₦349.99', '₦499.99', '₦499.99', '₦199.99', '₦199.99', '₦79.99', '₦1,549.99', '₦399.99', '₦4,199.99', '₦4,199.99', '₦399.99', '₦77,799.99', '₦6,699.99', '₦6,699.99', '₦3,199.99', '₦1,199.99', '₦16,999.99', '₦750.00', '₦3,499.99', '₦1,009.99', '₦1,099.99', '₦1,899.99', '₦1,899.99', '₦2,699.99', '₦399.99', '₦1,799.99', '₦1,699.99', '₦1,499.99', '₦89.99', '₦109.99', '₦2,749.99', '₦2,749.99', '₦1,699.99', '₦4,199.99', '₦1,899.99', '₦3,599.99']\n"
     ]
    }
   ],
   "source": [
    "all_prices = soup.find_all('bdi') \n",
    "prices = [] # an empty list to store all prices\n",
    "\n",
    "for price in all_prices:\n",
    "    price = price.get_text()\n",
    "    \n",
    "    # append each price to list\n",
    "    prices.append(price)\n",
    "    \n",
    "\n",
    "# print out all prices\n",
    "print(prices)"
   ]
  },
  {
   "cell_type": "markdown",
   "id": "11fcc551",
   "metadata": {},
   "source": [
    "## Refractoring Code"
   ]
  },
  {
   "cell_type": "code",
   "execution_count": 14,
   "id": "1f910185",
   "metadata": {},
   "outputs": [],
   "source": [
    "# get the content of an HTML tag\n",
    "def get_contents(tag):\n",
    "    items = soup.find_all(tag) # find all give tag\n",
    "    values = [] # empty list\n",
    "    \n",
    "    for item in items:\n",
    "        text = item.get_text() # get text of each tag\n",
    "        values.append(text)\n",
    "        \n",
    "    return values"
   ]
  },
  {
   "cell_type": "code",
   "execution_count": 15,
   "id": "1f756c7c",
   "metadata": {},
   "outputs": [
    {
     "name": "stdout",
     "output_type": "stream",
     "text": [
      "You have just successfully make a request to https://shoprite.ng/shop/.\n"
     ]
    }
   ],
   "source": [
    "# make a requests\n",
    "try:\n",
    "    res = requests.get(url='https://shoprite.ng/shop/')\n",
    "    status = res.status_code\n",
    "    \n",
    "    if status == 200:\n",
    "        print(f\"You have just successfully make a request to {res.url}.\")\n",
    "    else:\n",
    "        print(f'Status Code: {status}') \n",
    "except:\n",
    "    print(f'Status Code: {status}')\n",
    "finally:\n",
    "    content = res.content"
   ]
  },
  {
   "cell_type": "code",
   "execution_count": 16,
   "id": "1add75e2",
   "metadata": {},
   "outputs": [],
   "source": [
    "# create an object of BeautifulSoup\n",
    "soup = BeautifulSoup(content, 'html.parser')"
   ]
  },
  {
   "cell_type": "code",
   "execution_count": 17,
   "id": "6fb050e8",
   "metadata": {},
   "outputs": [],
   "source": [
    "# define an empty dictionary\n",
    "products = {}"
   ]
  },
  {
   "cell_type": "code",
   "execution_count": 18,
   "id": "e9988c7d",
   "metadata": {},
   "outputs": [],
   "source": [
    "# get all the product name\n",
    "names = get_contents('h2')\n",
    "\n",
    "# get all the product price\n",
    "prices = get_contents('bdi')"
   ]
  },
  {
   "cell_type": "code",
   "execution_count": 19,
   "id": "20948268",
   "metadata": {},
   "outputs": [],
   "source": [
    "products.update({\"names\":names, \"prices\":prices})"
   ]
  },
  {
   "cell_type": "code",
   "execution_count": 20,
   "id": "087b0224",
   "metadata": {},
   "outputs": [],
   "source": [
    "import pandas as pd"
   ]
  },
  {
   "cell_type": "code",
   "execution_count": 21,
   "id": "2fd80c0b",
   "metadata": {},
   "outputs": [],
   "source": [
    "shop_df = pd.DataFrame(products)"
   ]
  },
  {
   "cell_type": "code",
   "execution_count": 22,
   "id": "5e4aa26d",
   "metadata": {},
   "outputs": [
    {
     "data": {
      "text/html": [
       "<div>\n",
       "<style scoped>\n",
       "    .dataframe tbody tr th:only-of-type {\n",
       "        vertical-align: middle;\n",
       "    }\n",
       "\n",
       "    .dataframe tbody tr th {\n",
       "        vertical-align: top;\n",
       "    }\n",
       "\n",
       "    .dataframe thead th {\n",
       "        text-align: right;\n",
       "    }\n",
       "</style>\n",
       "<table border=\"1\" class=\"dataframe\">\n",
       "  <thead>\n",
       "    <tr style=\"text-align: right;\">\n",
       "      <th></th>\n",
       "      <th>names</th>\n",
       "      <th>prices</th>\n",
       "    </tr>\n",
       "  </thead>\n",
       "  <tbody>\n",
       "    <tr>\n",
       "      <th>0</th>\n",
       "      <td></td>\n",
       "      <td>₦1,799.99</td>\n",
       "    </tr>\n",
       "    <tr>\n",
       "      <th>1</th>\n",
       "      <td>18 Glenfiddich 750Ml</td>\n",
       "      <td>₦54,999.99</td>\n",
       "    </tr>\n",
       "    <tr>\n",
       "      <th>2</th>\n",
       "      <td>2sure Bath Soap Herbal Plus 120g</td>\n",
       "      <td>₦349.99</td>\n",
       "    </tr>\n",
       "    <tr>\n",
       "      <th>3</th>\n",
       "      <td>2X Snickers 80G</td>\n",
       "      <td>₦899.99</td>\n",
       "    </tr>\n",
       "    <tr>\n",
       "      <th>4</th>\n",
       "      <td>33 Export 500Ml Can</td>\n",
       "      <td>₦349.99</td>\n",
       "    </tr>\n",
       "  </tbody>\n",
       "</table>\n",
       "</div>"
      ],
      "text/plain": [
       "                              names      prices\n",
       "0                                     ₦1,799.99\n",
       "1              18 Glenfiddich 750Ml  ₦54,999.99\n",
       "2  2sure Bath Soap Herbal Plus 120g     ₦349.99\n",
       "3                   2X Snickers 80G     ₦899.99\n",
       "4               33 Export 500Ml Can     ₦349.99"
      ]
     },
     "execution_count": 22,
     "metadata": {},
     "output_type": "execute_result"
    }
   ],
   "source": [
    "shop_df.head()"
   ]
  },
  {
   "cell_type": "markdown",
   "id": "2e9137cd",
   "metadata": {},
   "source": [
    "## Making Requests to Multiple Pages"
   ]
  },
  {
   "cell_type": "code",
   "execution_count": 42,
   "id": "70bb6473",
   "metadata": {},
   "outputs": [
    {
     "ename": "AttributeError",
     "evalue": "'NoneType' object has no attribute 'get_text'",
     "output_type": "error",
     "traceback": [
      "\u001b[0;31m---------------------------------------------------------------------------\u001b[0m",
      "\u001b[0;31mAttributeError\u001b[0m                            Traceback (most recent call last)",
      "\u001b[0;32m/var/folders/8s/8kr9355d57gbx1dg94k8jmh00000gn/T/ipykernel_10614/1546863608.py\u001b[0m in \u001b[0;36m<module>\u001b[0;34m\u001b[0m\n\u001b[1;32m     32\u001b[0m         \u001b[0mtags\u001b[0m \u001b[0;34m=\u001b[0m \u001b[0;34m[\u001b[0m\u001b[0;34m]\u001b[0m\u001b[0;34m\u001b[0m\u001b[0;34m\u001b[0m\u001b[0m\n\u001b[1;32m     33\u001b[0m \u001b[0;34m\u001b[0m\u001b[0m\n\u001b[0;32m---> 34\u001b[0;31m         \u001b[0msku\u001b[0m \u001b[0;34m=\u001b[0m \u001b[0msoup\u001b[0m\u001b[0;34m.\u001b[0m\u001b[0mfind\u001b[0m\u001b[0;34m(\u001b[0m\u001b[0;34m'span'\u001b[0m\u001b[0;34m,\u001b[0m \u001b[0mclass_\u001b[0m\u001b[0;34m=\u001b[0m\u001b[0;34m\"sku\"\u001b[0m\u001b[0;34m)\u001b[0m\u001b[0;34m.\u001b[0m\u001b[0mget_text\u001b[0m\u001b[0;34m(\u001b[0m\u001b[0;34m)\u001b[0m\u001b[0;34m\u001b[0m\u001b[0;34m\u001b[0m\u001b[0m\n\u001b[0m\u001b[1;32m     35\u001b[0m         \u001b[0mskus\u001b[0m\u001b[0;34m.\u001b[0m\u001b[0mappend\u001b[0m\u001b[0;34m(\u001b[0m\u001b[0msku\u001b[0m\u001b[0;34m)\u001b[0m\u001b[0;34m\u001b[0m\u001b[0;34m\u001b[0m\u001b[0m\n\u001b[1;32m     36\u001b[0m \u001b[0;34m\u001b[0m\u001b[0m\n",
      "\u001b[0;31mAttributeError\u001b[0m: 'NoneType' object has no attribute 'get_text'"
     ]
    }
   ],
   "source": [
    "# empty dictionary\n",
    "all_products = {\n",
    "    \"names\": [],\n",
    "    \"prices\": [],\n",
    "    \"sku\": [],\n",
    "    'categories': [],\n",
    "    'tag': []\n",
    "}\n",
    "\n",
    "# make a requests to 5 pages\n",
    "for page in range(1,2):\n",
    "    url = f\"https://shoprite.ng/shop/?product-page={page}\"\n",
    "    res = requests.get(url)\n",
    "    \n",
    "    # create an object of BeautifulSoup\n",
    "    soup = BeautifulSoup(res.content, 'html.parser')\n",
    "    \n",
    "    # get product name\n",
    "    names = get_contents('h2')\n",
    "    \n",
    "    #get all the product price\n",
    "    prices = get_contents('bdi')\n",
    "    \n",
    "    for name in names:\n",
    "        single_prod_url = f\"https://shoprite.ng/product/{name}\".replace(' ','-')\n",
    "        r = requests.get(single_prod_url)\n",
    "        \n",
    "        soup = BeautifulSoup(r.content, 'html.parser')\n",
    "        \n",
    "        skus = []\n",
    "        categories = []\n",
    "        tags = []\n",
    "       \n",
    "    \n",
    "        if sku = soup.find('span', class_=\"sku\") != None:\n",
    "            \n",
    "        skus.append(sku)\n",
    "        \n",
    "        category = soup.find('span', class_=\"posted_in\").get_text()\n",
    "        categories.append(category)\n",
    "        \n",
    "        tag = soup.find('span', class_=\"tagged_as\").get_text()\n",
    "        tags.append(tag)\n",
    "    \n",
    "    \n",
    "    \n",
    "    all_products['names'].extend(names)\n",
    "    all_products['prices'].extend(prices)\n",
    "    all_products['sku'].extend(skus)\n",
    "    all_products['categories'].extend(categories)\n",
    "    all_products['tag'].extend(tags)\n",
    "    \n",
    "\n",
    "all_df = pd.DataFrame(all_products)\n",
    "all_df.head()"
   ]
  },
  {
   "cell_type": "code",
   "execution_count": 24,
   "id": "a72d2cea",
   "metadata": {},
   "outputs": [
    {
     "data": {
      "text/html": [
       "<div>\n",
       "<style scoped>\n",
       "    .dataframe tbody tr th:only-of-type {\n",
       "        vertical-align: middle;\n",
       "    }\n",
       "\n",
       "    .dataframe tbody tr th {\n",
       "        vertical-align: top;\n",
       "    }\n",
       "\n",
       "    .dataframe thead th {\n",
       "        text-align: right;\n",
       "    }\n",
       "</style>\n",
       "<table border=\"1\" class=\"dataframe\">\n",
       "  <thead>\n",
       "    <tr style=\"text-align: right;\">\n",
       "      <th></th>\n",
       "      <th>names</th>\n",
       "      <th>prices</th>\n",
       "    </tr>\n",
       "  </thead>\n",
       "  <tbody>\n",
       "    <tr>\n",
       "      <th>0</th>\n",
       "      <td></td>\n",
       "      <td>₦1,799.99</td>\n",
       "    </tr>\n",
       "    <tr>\n",
       "      <th>1</th>\n",
       "      <td>18 Glenfiddich 750Ml</td>\n",
       "      <td>₦54,999.99</td>\n",
       "    </tr>\n",
       "    <tr>\n",
       "      <th>2</th>\n",
       "      <td>2sure Bath Soap Herbal Plus 120g</td>\n",
       "      <td>₦349.99</td>\n",
       "    </tr>\n",
       "    <tr>\n",
       "      <th>3</th>\n",
       "      <td>2X Snickers 80G</td>\n",
       "      <td>₦899.99</td>\n",
       "    </tr>\n",
       "    <tr>\n",
       "      <th>4</th>\n",
       "      <td>33 Export 500Ml Can</td>\n",
       "      <td>₦349.99</td>\n",
       "    </tr>\n",
       "    <tr>\n",
       "      <th>...</th>\n",
       "      <td>...</td>\n",
       "      <td>...</td>\n",
       "    </tr>\n",
       "    <tr>\n",
       "      <th>195</th>\n",
       "      <td>Coffee INST 3 in1 Nescafe 250G</td>\n",
       "      <td>₦999.99</td>\n",
       "    </tr>\n",
       "    <tr>\n",
       "      <th>196</th>\n",
       "      <td>Cognac Blue Swift Vsop Martell 750Ml</td>\n",
       "      <td>₦52,499.99</td>\n",
       "    </tr>\n",
       "    <tr>\n",
       "      <th>197</th>\n",
       "      <td>Cognac Vs Hennessy 750Ml</td>\n",
       "      <td>₦35,599.99</td>\n",
       "    </tr>\n",
       "    <tr>\n",
       "      <th>198</th>\n",
       "      <td>Cognac Vs Hennessy 750Ml</td>\n",
       "      <td>₦30,499.99</td>\n",
       "    </tr>\n",
       "    <tr>\n",
       "      <th>199</th>\n",
       "      <td>Coke 350Ml Pet</td>\n",
       "      <td>₦129.99</td>\n",
       "    </tr>\n",
       "  </tbody>\n",
       "</table>\n",
       "<p>200 rows × 2 columns</p>\n",
       "</div>"
      ],
      "text/plain": [
       "                                    names      prices\n",
       "0                                           ₦1,799.99\n",
       "1                    18 Glenfiddich 750Ml  ₦54,999.99\n",
       "2        2sure Bath Soap Herbal Plus 120g     ₦349.99\n",
       "3                         2X Snickers 80G     ₦899.99\n",
       "4                     33 Export 500Ml Can     ₦349.99\n",
       "..                                    ...         ...\n",
       "195        Coffee INST 3 in1 Nescafe 250G     ₦999.99\n",
       "196  Cognac Blue Swift Vsop Martell 750Ml  ₦52,499.99\n",
       "197              Cognac Vs Hennessy 750Ml  ₦35,599.99\n",
       "198              Cognac Vs Hennessy 750Ml  ₦30,499.99\n",
       "199                        Coke 350Ml Pet     ₦129.99\n",
       "\n",
       "[200 rows x 2 columns]"
      ]
     },
     "execution_count": 24,
     "metadata": {},
     "output_type": "execute_result"
    }
   ],
   "source": [
    "all_df"
   ]
  },
  {
   "cell_type": "markdown",
   "id": "4c68fe6e",
   "metadata": {},
   "source": [
    "## More Details"
   ]
  },
  {
   "cell_type": "code",
   "execution_count": 26,
   "id": "e649a19b",
   "metadata": {},
   "outputs": [],
   "source": [
    "# one product: https://shoprite.ng/product/18-glenfiddich-750ml/\n",
    "r = requests.get('https://shoprite.ng/product/18-glenfiddich-750ml/')\n",
    "\n",
    "soup = BeautifulSoup(r.content, \"html.parser\")"
   ]
  },
  {
   "cell_type": "code",
   "execution_count": 34,
   "id": "8ed1b741",
   "metadata": {},
   "outputs": [
    {
     "data": {
      "text/plain": [
       "'Whiskey 18 Glenfiddich 750Ml'"
      ]
     },
     "execution_count": 34,
     "metadata": {},
     "output_type": "execute_result"
    }
   ],
   "source": []
  },
  {
   "cell_type": "code",
   "execution_count": 33,
   "id": "74732c9c",
   "metadata": {},
   "outputs": [
    {
     "data": {
      "text/plain": [
       "'Categories: Liquor, Spirits'"
      ]
     },
     "execution_count": 33,
     "metadata": {},
     "output_type": "execute_result"
    }
   ],
   "source": []
  },
  {
   "cell_type": "code",
   "execution_count": 35,
   "id": "952799aa",
   "metadata": {},
   "outputs": [
    {
     "data": {
      "text/plain": [
       "'Tag: Whiskey'"
      ]
     },
     "execution_count": 35,
     "metadata": {},
     "output_type": "execute_result"
    }
   ],
   "source": []
  },
  {
   "cell_type": "code",
   "execution_count": 37,
   "id": "d085876a",
   "metadata": {},
   "outputs": [
    {
     "name": "stdout",
     "output_type": "stream",
     "text": [
      "https://shoprite.ng/product/a\n",
      "https://shoprite.ng/product/b\n",
      "https://shoprite.ng/product/c\n"
     ]
    }
   ],
   "source": [
    "name = ['a', 'b', 'c']\n",
    "\n",
    "for n in name:\n",
    "    url = f\"https://shoprite.ng/product/{n}\"\n",
    "    print(url)"
   ]
  },
  {
   "cell_type": "code",
   "execution_count": null,
   "id": "f6426fb0",
   "metadata": {},
   "outputs": [],
   "source": []
  }
 ],
 "metadata": {
  "kernelspec": {
   "display_name": "Python 3 (ipykernel)",
   "language": "python",
   "name": "python3"
  },
  "language_info": {
   "codemirror_mode": {
    "name": "ipython",
    "version": 3
   },
   "file_extension": ".py",
   "mimetype": "text/x-python",
   "name": "python",
   "nbconvert_exporter": "python",
   "pygments_lexer": "ipython3",
   "version": "3.9.13"
  }
 },
 "nbformat": 4,
 "nbformat_minor": 5
}
