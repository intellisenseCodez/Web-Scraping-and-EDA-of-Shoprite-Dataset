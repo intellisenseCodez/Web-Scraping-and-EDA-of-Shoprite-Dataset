{
 "cells": [
  {
   "cell_type": "markdown",
   "id": "1294ef9c",
   "metadata": {},
   "source": [
    "# Exploratory Data Analysis of Shoprite Data"
   ]
  },
  {
   "cell_type": "markdown",
   "id": "3622d8f9",
   "metadata": {},
   "source": [
    "**Objectives**\n",
    "\n",
    "1. Total Number of Products\n",
    "2. Count of Products by Categories\n",
    "3. Total price by Categories\n",
    "4. Top 5 most expensive products \n",
    "5. Top 5 most expensive category"
   ]
  },
  {
   "cell_type": "code",
   "execution_count": 42,
   "id": "b53417d3",
   "metadata": {},
   "outputs": [],
   "source": [
    "import numpy as np\n",
    "import pandas as pd\n",
    "import matplotlib.pyplot as plt\n",
    "import seaborn as sns\n",
    "\n",
    "%matplotlib inline"
   ]
  },
  {
   "cell_type": "markdown",
   "id": "e7b4300b",
   "metadata": {},
   "source": [
    "### Load Dataset"
   ]
  },
  {
   "cell_type": "code",
   "execution_count": 19,
   "id": "921b03c1",
   "metadata": {},
   "outputs": [
    {
     "data": {
      "text/html": [
       "<div>\n",
       "<style scoped>\n",
       "    .dataframe tbody tr th:only-of-type {\n",
       "        vertical-align: middle;\n",
       "    }\n",
       "\n",
       "    .dataframe tbody tr th {\n",
       "        vertical-align: top;\n",
       "    }\n",
       "\n",
       "    .dataframe thead th {\n",
       "        text-align: right;\n",
       "    }\n",
       "</style>\n",
       "<table border=\"1\" class=\"dataframe\">\n",
       "  <thead>\n",
       "    <tr style=\"text-align: right;\">\n",
       "      <th></th>\n",
       "      <th>Unnamed: 0</th>\n",
       "      <th>names</th>\n",
       "      <th>prices</th>\n",
       "      <th>categories</th>\n",
       "      <th>tag</th>\n",
       "    </tr>\n",
       "  </thead>\n",
       "  <tbody>\n",
       "    <tr>\n",
       "      <th>0</th>\n",
       "      <td>0</td>\n",
       "      <td>Chewy Caramel Alpenliebe 6.5G</td>\n",
       "      <td>34.99</td>\n",
       "      <td>Confectionery and Snacks</td>\n",
       "      <td>Candy</td>\n",
       "    </tr>\n",
       "    <tr>\n",
       "      <th>1</th>\n",
       "      <td>1</td>\n",
       "      <td>Milk Chewy Caramel Alpenliebe 6.5G</td>\n",
       "      <td>34.99</td>\n",
       "      <td>Candy &amp; bubble Gum</td>\n",
       "      <td>Alpenliebe</td>\n",
       "    </tr>\n",
       "    <tr>\n",
       "      <th>2</th>\n",
       "      <td>2</td>\n",
       "      <td>Seasoning Powder Jollof Maggi 8G</td>\n",
       "      <td>52.99</td>\n",
       "      <td>Condiments, Oils &amp; Spices</td>\n",
       "      <td>Seasoning</td>\n",
       "    </tr>\n",
       "    <tr>\n",
       "      <th>3</th>\n",
       "      <td>3</td>\n",
       "      <td>Seasoning Powder Chicken Maggi 10G</td>\n",
       "      <td>52.99</td>\n",
       "      <td>Condiments, Oils &amp; Spices</td>\n",
       "      <td>Seasoning</td>\n",
       "    </tr>\n",
       "    <tr>\n",
       "      <th>4</th>\n",
       "      <td>4</td>\n",
       "      <td>Chocolate Slab Milk Dune 5G</td>\n",
       "      <td>54.99</td>\n",
       "      <td>Chocolate</td>\n",
       "      <td>Chocolate</td>\n",
       "    </tr>\n",
       "  </tbody>\n",
       "</table>\n",
       "</div>"
      ],
      "text/plain": [
       "   Unnamed: 0                               names  prices  \\\n",
       "0           0      Chewy Caramel Alpenliebe 6.5G    34.99   \n",
       "1           1  Milk Chewy Caramel Alpenliebe 6.5G   34.99   \n",
       "2           2    Seasoning Powder Jollof Maggi 8G   52.99   \n",
       "3           3  Seasoning Powder Chicken Maggi 10G   52.99   \n",
       "4           4         Chocolate Slab Milk Dune 5G   54.99   \n",
       "\n",
       "                  categories         tag  \n",
       "0   Confectionery and Snacks       Candy  \n",
       "1         Candy & bubble Gum  Alpenliebe  \n",
       "2  Condiments, Oils & Spices   Seasoning  \n",
       "3  Condiments, Oils & Spices   Seasoning  \n",
       "4                  Chocolate   Chocolate  "
      ]
     },
     "execution_count": 19,
     "metadata": {},
     "output_type": "execute_result"
    }
   ],
   "source": [
    "clean_df = pd.read_csv('shop_rite_clean_data.csv')\n",
    "clean_df.head()"
   ]
  },
  {
   "cell_type": "markdown",
   "id": "2e57b5e3",
   "metadata": {},
   "source": [
    "### Remove unwanted Column"
   ]
  },
  {
   "cell_type": "code",
   "execution_count": 20,
   "id": "f8c9588b",
   "metadata": {},
   "outputs": [],
   "source": [
    "clean_df.drop(columns='Unnamed: 0', inplace=True)"
   ]
  },
  {
   "cell_type": "markdown",
   "id": "7248078c",
   "metadata": {},
   "source": [
    "### Check Info"
   ]
  },
  {
   "cell_type": "code",
   "execution_count": 21,
   "id": "3f0596f3",
   "metadata": {},
   "outputs": [
    {
     "name": "stdout",
     "output_type": "stream",
     "text": [
      "<class 'pandas.core.frame.DataFrame'>\n",
      "RangeIndex: 93 entries, 0 to 92\n",
      "Data columns (total 4 columns):\n",
      " #   Column      Non-Null Count  Dtype  \n",
      "---  ------      --------------  -----  \n",
      " 0   names       93 non-null     object \n",
      " 1   prices      93 non-null     float64\n",
      " 2   categories  93 non-null     object \n",
      " 3   tag         93 non-null     object \n",
      "dtypes: float64(1), object(3)\n",
      "memory usage: 3.0+ KB\n"
     ]
    }
   ],
   "source": [
    "clean_df.info()"
   ]
  },
  {
   "cell_type": "markdown",
   "id": "64a9bc9f",
   "metadata": {},
   "source": [
    "### Check shape"
   ]
  },
  {
   "cell_type": "code",
   "execution_count": 22,
   "id": "fd9a2bb0",
   "metadata": {},
   "outputs": [
    {
     "data": {
      "text/plain": [
       "(93, 4)"
      ]
     },
     "execution_count": 22,
     "metadata": {},
     "output_type": "execute_result"
    }
   ],
   "source": [
    "clean_df.shape"
   ]
  },
  {
   "cell_type": "markdown",
   "id": "c51d08a9",
   "metadata": {},
   "source": [
    "### 1. Total Number of Products"
   ]
  },
  {
   "cell_type": "code",
   "execution_count": 23,
   "id": "efd55ab1",
   "metadata": {},
   "outputs": [
    {
     "name": "stdout",
     "output_type": "stream",
     "text": [
      "There are 89 unique products in the dataset.\n"
     ]
    }
   ],
   "source": [
    "num_of_products = len(clean_df['names'].unique())\n",
    "\n",
    "print(f\"There are {num_of_products} unique products in the dataset.\")"
   ]
  },
  {
   "cell_type": "markdown",
   "id": "2ec6ed82",
   "metadata": {},
   "source": [
    "### 2. Top 5 Count of Products by Categories"
   ]
  },
  {
   "cell_type": "code",
   "execution_count": 34,
   "id": "8ebaf54d",
   "metadata": {},
   "outputs": [
    {
     "data": {
      "text/plain": [
       "22"
      ]
     },
     "execution_count": 34,
     "metadata": {},
     "output_type": "execute_result"
    }
   ],
   "source": [
    "len(clean_df['categories'].unique())"
   ]
  },
  {
   "cell_type": "code",
   "execution_count": 41,
   "id": "860b854d",
   "metadata": {},
   "outputs": [
    {
     "data": {
      "text/plain": [
       "categories\n",
       "Biscuits & Cookies      14\n",
       "Carbonated Juices       11\n",
       "Rice, Grains & Pasta     7\n",
       "Soda & Energy drink      6\n",
       "Food                     6\n",
       "Name: names, dtype: int64"
      ]
     },
     "execution_count": 41,
     "metadata": {},
     "output_type": "execute_result"
    }
   ],
   "source": [
    "top_5_products_by_category = clean_df.groupby(\"categories\")[\"names\"].count().sort_values(ascending=False)[:5]\n",
    "top_5_products_by_category"
   ]
  },
  {
   "cell_type": "code",
   "execution_count": 48,
   "id": "b732e8b8",
   "metadata": {},
   "outputs": [
    {
     "data": {
      "image/png": "[encoded data removed]",
      "text/plain": [
       "<Figure size 640x480 with 1 Axes>"
      ]
     },
     "metadata": {},
     "output_type": "display_data"
    }
   ],
   "source": [
    "x_axis = top_5_products_by_category.index\n",
    "y_axis = top_5_products_by_category.values\n",
    "\n",
    "sns.barplot(x=x_axis, y=y_axis)\n",
    "plt.title('Top 5 Count of Products by Categories')\n",
    "plt.xlabel(\"Categories\")\n",
    "plt.ylabel('Counts of Products')\n",
    "plt.xticks(rotation=30)\n",
    "plt.show()"
   ]
  },
  {
   "cell_type": "code",
   "execution_count": null,
   "id": "053369e2",
   "metadata": {},
   "outputs": [],
   "source": []
  }
 ],
 "metadata": {
  "kernelspec": {
   "display_name": "Python 3 (ipykernel)",
   "language": "python",
   "name": "python3"
  },
  "language_info": {
   "codemirror_mode": {
    "name": "ipython",
    "version": 3
   },
   "file_extension": ".py",
   "mimetype": "text/x-python",
   "name": "python",
   "nbconvert_exporter": "python",
   "pygments_lexer": "ipython3",
   "version": "3.9.13"
  }
 },
 "nbformat": 4,
 "nbformat_minor": 5
}
